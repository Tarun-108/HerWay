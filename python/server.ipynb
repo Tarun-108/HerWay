{
  "cells": [
    {
      "cell_type": "code",
      "execution_count": null,
      "metadata": {
        "colab": {
          "base_uri": "https://localhost:8080/"
        },
        "id": "KAyJPx2hVaLt",
        "outputId": "245c88ea-bd89-4462-c1cc-d849525b5ec5"
      },
      "outputs": [
        {
          "output_type": "stream",
          "name": "stdout",
          "text": [
            "\u001b[2K     \u001b[90m━━━━━━━━━━━━━━━━━━━━━━━━━━━━━━━━━━━━━━━━\u001b[0m \u001b[32m52.3/52.3 KB\u001b[0m \u001b[31m3.5 MB/s\u001b[0m eta \u001b[36m0:00:00\u001b[0m\n",
            "\u001b[2K     \u001b[90m━━━━━━━━━━━━━━━━━━━━━━━━━━━━━━━━━━━━━━━━\u001b[0m \u001b[32m60.6/60.6 KB\u001b[0m \u001b[31m6.9 MB/s\u001b[0m eta \u001b[36m0:00:00\u001b[0m\n",
            "\u001b[?25h  Preparing metadata (setup.py) ... \u001b[?25l\u001b[?25hdone\n",
            "  Building wheel for python-multipart (setup.py) ... \u001b[?25l\u001b[?25hdone\n",
            "\u001b[2K     \u001b[90m━━━━━━━━━━━━━━━━━━━━━━━━━━━━━━━━━━━━━━━━\u001b[0m \u001b[32m54.4/54.4 KB\u001b[0m \u001b[31m6.0 MB/s\u001b[0m eta \u001b[36m0:00:00\u001b[0m\n",
            "\u001b[2K     \u001b[90m━━━━━━━━━━━━━━━━━━━━━━━━━━━━━━━━━━━━━━━━\u001b[0m \u001b[32m58.3/58.3 KB\u001b[0m \u001b[31m7.3 MB/s\u001b[0m eta \u001b[36m0:00:00\u001b[0m\n",
            "\u001b[2K     \u001b[90m━━━━━━━━━━━━━━━━━━━━━━━━━━━━━━━━━━━━━━\u001b[0m \u001b[32m761.3/761.3 KB\u001b[0m \u001b[31m35.4 MB/s\u001b[0m eta \u001b[36m0:00:00\u001b[0m\n",
            "\u001b[?25h  Preparing metadata (setup.py) ... \u001b[?25l\u001b[?25hdone\n",
            "  Building wheel for pyngrok (setup.py) ... \u001b[?25l\u001b[?25hdone\n"
          ]
        }
      ],
      "source": [
        "# Install requirements\n",
        "!pip install -q fastapi==0.68.1\n",
        "!pip install -q python-multipart==0.0.5\n",
        "!pip install -q uvicorn==0.15.0\n",
        "!pip install -q nest-asyncio\n",
        "!pip install -q pyngrok"
      ]
    },
    {
      "cell_type": "code",
      "execution_count": null,
      "metadata": {
        "id": "VxKA6KB0VhBU"
      },
      "outputs": [],
      "source": [
        "import os\n",
        "import requests\n",
        "\n",
        "from fastapi import FastAPI\n",
        "from pydantic import BaseModel\n",
        "from pyngrok import ngrok\n",
        "import nest_asyncio\n",
        "import uvicorn\n",
        "\n",
        "import math\n",
        "import pandas as pd\n",
        "from geopy import Point\n",
        "from geopy.distance import distance\n",
        "from geopy.geocoders import Nominatim\n",
        "from geopy.extra.rate_limiter import RateLimiter\n",
        "from tqdm import tqdm_notebook\n",
        "\n"
      ]
    },
    {
      "cell_type": "code",
      "execution_count": null,
      "metadata": {
        "id": "k3ZI1NzLksGR"
      },
      "outputs": [],
      "source": [
        "CRIME_DATA = '/content/crime_data.csv'\n",
        "MODEL_PATH = '/content/bert_model.pth'\n",
        "POLICE_DATA = '/content/pol_data.csv'\n",
        "POP_DATA = '/content/po_data.csv'\n",
        "TRANSIT_DATA = ''"
      ]
    },
    {
      "cell_type": "code",
      "execution_count": null,
      "metadata": {
        "id": "4WX7CKSXYDDY"
      },
      "outputs": [],
      "source": [
        "\n",
        "def get_routes(start, dest):\n",
        "  KEY = 'jyLBvqJxo4n0KceZiCYfku4ixSlXvasX'\n",
        "  URL = f'https://www.mapquestapi.com/directions/v2/alternateroutes?key={KEY}'\n",
        "\n",
        "  payload = {\n",
        "  \"locations\": [start, dest],\n",
        "  \"maxRoutes\": 6,\n",
        "  \"timeOverage\": 100\n",
        "  }\n",
        "  response = requests.post(URL, json=payload)\n",
        "  if response.status_code == 200:\n",
        "    data = response.json()\n",
        "  return data\n",
        "\n",
        "def process_data(data): \n",
        "  node_dict = {}\n",
        "  nodes = []\n",
        "  for node in data['route']['legs'][0]['maneuvers']:\n",
        "    nodes.append(node['startPoint'])\n",
        "    nodes[-1]['dist'] = node['distance']\n",
        "    nodes[-1]['narr'] = node['narrative']\n",
        "  node_dict[0] = nodes\n",
        "  num_alternates = len(data['route']['alternateRoutes'])\n",
        "  for i in range(num_alternates):\n",
        "    nodes = []\n",
        "    r = data['route']['alternateRoutes'][i]['route']['legs'][0]\n",
        "    num_manuvs = len(r['maneuvers'])\n",
        "    for j in range(num_manuvs):\n",
        "      nodes.append(r['maneuvers'][j]['startPoint'])\n",
        "      nodes[-1]['dist'] = r['maneuvers'][j]['distance']\n",
        "      nodes[-1]['narr'] = r['maneuvers'][j]['narrative']\n",
        "    node_dict[i+1] = nodes\n",
        "  return node_dict\n",
        "\n",
        "\n",
        "def get_km_range(lat, lng, k):\n",
        "  p0 = Point(lat, lng)\n",
        "  p1 = distance(kilometers=k).destination(point=p0, bearing=0)\n",
        "  p2 = distance(kilometers=k).destination(point=p0, bearing=90) \n",
        "  lat_range = p1.latitude - p0.latitude\n",
        "  lng_range = p2.longitude - p0.longitude\n",
        "  return lat_range, lng_range\n",
        "\n",
        "def get_distance(xa, ya, xb, yb):\n",
        "  return math.sqrt((xa-xb)**2 + (ya-yb)**2)\n",
        "\n",
        "\n",
        "def get_severity(category):\n",
        "  weights = {\n",
        "      'Poor / No Street Lighting': 1,\n",
        "      'Stalking': 2,\n",
        "      'Ogling/Facial Expressions/Staring': 2,\n",
        "      'Commenting': 3,\n",
        "      'Catcalls/Whistles': 3,\n",
        "      'Taking pictures': 4,\n",
        "      'Indecent exposure': 5,\n",
        "      'Sexual Invites': 5,\n",
        "      'Chain Snatching / Robbery': 8,\n",
        "      'Touching /Groping': 8,\n",
        "      'Rape / Sexual Assault': 10,\n",
        "  }\n",
        "  return weights[category]\n",
        "  \n",
        "\n",
        "def get_risk_factor(routes):\n",
        "  risk_scores = []\n",
        "  df = pd.read_csv(CRIME_DATA)\n",
        "  for idx in routes.keys():\n",
        "    route_risk = 0\n",
        "    for node in routes[idx]:\n",
        "      lat, lng = node['lat'], node['lng']\n",
        "      dist = node['dist']\n",
        "      if dist==0: dist=1 \n",
        "      lat_r, lng_r = get_km_range(lat, lng, 2)\n",
        "      crimes = df.loc[\n",
        "          (df['Latitude'].between(lat-lat_r, lat+lat_r)) &\n",
        "          (df['Longitude'].between(lng-lng_r, lng+lng_r))]\n",
        "      # route_risk += crimes.shape[0]\n",
        "      node_risk = 0\n",
        "      for id, crime in crimes.iterrows():\n",
        "        node_risk += get_severity(crime['Category'])*get_distance(\n",
        "            crime['Latitude'], crime['Longitude'], lat, lng)\n",
        "      route_risk += (node_risk/dist)\n",
        "               \n",
        "    risk_scores.append(route_risk)\n",
        "  return risk_scores\n"
      ]
    },
    {
      "cell_type": "code",
      "execution_count": null,
      "metadata": {
        "id": "LyLovYMNVqVy"
      },
      "outputs": [],
      "source": [
        "app = FastAPI()\n",
        "\n",
        "class RoutePlanner(BaseModel):\n",
        "    start_loc: str\n",
        "    end_loc: str\n",
        "\n",
        "class CrimeReportData(BaseModel):\n",
        "    location: str\n",
        "    incident: str\n",
        "\n",
        "\n",
        "@app.post(\"/routes\")\n",
        "async def alternate_routes(inp_data: RoutePlanner):\n",
        "  data = get_routes(inp_data.start_loc, inp_data.end_loc)\n",
        "  node_dict = process_data(data)\n",
        "  scores = get_risk_factor(node_dict)\n",
        "  max_score = max(scores)\n",
        "  scores = [i / max_score for i in scores]\n",
        "  return {\"routes\": node_dict, \"risk_scores\": scores}\n",
        "\n",
        "@app.post(\"/add_data\")\n",
        "async def add_to_dataframe():\n",
        "  geolocator = Nominatim(timeout=10, user_agent=\"my-app\")\n",
        "  geocode = RateLimiter(geolocator.geocode, min_delay_seconds=1)\n",
        "  coord = geocode(location)\n",
        "  df = pd.read_csv(CRIME_DATA)\n",
        "  model = torch.load(MODEL_PATH)\n",
        "  with torch.no_grad():\n",
        "    category = model(incident.unsqueeze(0), attention_mask.unsqueeze(0))\n",
        "  df.append(\"Category\":str(category), \"Latitude\":coord.latitude, \"Longitude\":coord.longitude,\n",
        "            \"Incident\":str(incident), \"Location\":str(location))"
      ]
    },
    {
      "cell_type": "code",
      "execution_count": null,
      "metadata": {
        "colab": {
          "base_uri": "https://localhost:8080/"
        },
        "id": "NoCwiWJsV0ps",
        "outputId": "c520bba8-b99c-4ae4-d7f6-8693f1b075fd"
      },
      "outputs": [
        {
          "output_type": "execute_result",
          "data": {
            "text/plain": [
              "0"
            ]
          },
          "metadata": {},
          "execution_count": 6
        }
      ],
      "source": [
        "auth_token = \"2O8XV6yH8IEkUvZ77UC2nZpK1OP_555Xi375PfZLjk8ks1yAS\"\n",
        "os.system(f\"ngrok authtoken {auth_token}\")"
      ]
    },
    {
      "cell_type": "code",
      "execution_count": null,
      "metadata": {
        "colab": {
          "base_uri": "https://localhost:8080/"
        },
        "id": "7JQywgDUWB4A",
        "outputId": "ee3e4f42-3fd4-417f-e2de-49cde0b67371"
      },
      "outputs": [
        {
          "output_type": "stream",
          "name": "stdout",
          "text": [
            "root         637  0.0  0.1 725928 22160 ?        Sl   06:24   0:00 /usr/local/lib/python3.9/dist-packages/pyngrok/bin/ngrok start --none --log=stdout\n",
            "root         658  0.0  0.0   6904  3172 ?        S    06:24   0:00 /bin/bash -c ps aux | grep ngrok     # check if tunnel exists\n",
            "root         660  0.0  0.0   6444   716 ?        S    06:24   0:00 grep ngrok\n"
          ]
        }
      ],
      "source": [
        "# Create tunnel\n",
        "public_url = ngrok.connect(8000, port='8000', bind_tls=True)\n",
        "!ps aux | grep ngrok     # check if tunnel exists"
      ]
    },
    {
      "cell_type": "code",
      "execution_count": null,
      "metadata": {
        "colab": {
          "background_save": true,
          "base_uri": "https://localhost:8080/"
        },
        "id": "RP-FIsCiWFVS",
        "outputId": "e6e52a30-3003-4b24-fa1a-880e4ec14747"
      },
      "outputs": [
        {
          "output_type": "stream",
          "name": "stderr",
          "text": [
            "INFO:     Started server process [281]\n",
            "INFO:uvicorn.error:Started server process [281]\n",
            "INFO:     Waiting for application startup.\n",
            "INFO:uvicorn.error:Waiting for application startup.\n",
            "INFO:     Application startup complete.\n",
            "INFO:uvicorn.error:Application startup complete.\n",
            "INFO:     Uvicorn running on http://127.0.0.1:8000 (Press CTRL+C to quit)\n",
            "INFO:uvicorn.error:Uvicorn running on http://127.0.0.1:8000 (Press CTRL+C to quit)\n"
          ]
        },
        {
          "output_type": "stream",
          "name": "stdout",
          "text": [
            "NgrokTunnel: \"https://01a7-35-245-198-222.ngrok-free.app\" -> \"http://localhost:8000\"\n",
            "INFO:     149.154.161.203:0 - \"GET / HTTP/1.1\" 404 Not Found\n",
            "INFO:     103.93.250.20:0 - \"POST /routes HTTP/1.1\" 500 Internal Server Error\n"
          ]
        },
        {
          "output_type": "stream",
          "name": "stderr",
          "text": [
            "ERROR:    Exception in ASGI application\n",
            "Traceback (most recent call last):\n",
            "  File \"/usr/local/lib/python3.9/dist-packages/uvicorn/protocols/http/h11_impl.py\", line 373, in run_asgi\n",
            "    result = await app(self.scope, self.receive, self.send)\n",
            "  File \"/usr/local/lib/python3.9/dist-packages/uvicorn/middleware/proxy_headers.py\", line 75, in __call__\n",
            "    return await self.app(scope, receive, send)\n",
            "  File \"/usr/local/lib/python3.9/dist-packages/fastapi/applications.py\", line 208, in __call__\n",
            "    await super().__call__(scope, receive, send)\n",
            "  File \"/usr/local/lib/python3.9/dist-packages/starlette/applications.py\", line 112, in __call__\n",
            "    await self.middleware_stack(scope, receive, send)\n",
            "  File \"/usr/local/lib/python3.9/dist-packages/starlette/middleware/errors.py\", line 181, in __call__\n",
            "    raise exc from None\n",
            "  File \"/usr/local/lib/python3.9/dist-packages/starlette/middleware/errors.py\", line 159, in __call__\n",
            "    await self.app(scope, receive, _send)\n",
            "  File \"/usr/local/lib/python3.9/dist-packages/starlette/exceptions.py\", line 82, in __call__\n",
            "    raise exc from None\n",
            "  File \"/usr/local/lib/python3.9/dist-packages/starlette/exceptions.py\", line 71, in __call__\n",
            "    await self.app(scope, receive, sender)\n",
            "  File \"/usr/local/lib/python3.9/dist-packages/starlette/routing.py\", line 580, in __call__\n",
            "    await route.handle(scope, receive, send)\n",
            "  File \"/usr/local/lib/python3.9/dist-packages/starlette/routing.py\", line 241, in handle\n",
            "    await self.app(scope, receive, send)\n",
            "  File \"/usr/local/lib/python3.9/dist-packages/starlette/routing.py\", line 52, in app\n",
            "    response = await func(request)\n",
            "  File \"/usr/local/lib/python3.9/dist-packages/fastapi/routing.py\", line 226, in app\n",
            "    raw_response = await run_endpoint_function(\n",
            "  File \"/usr/local/lib/python3.9/dist-packages/fastapi/routing.py\", line 159, in run_endpoint_function\n",
            "    return await dependant.call(**values)\n",
            "  File \"<ipython-input-5-33dbc4e062c3>\", line 11, in alternate_routes\n",
            "    scores = get_risk_factor(node_dict)\n",
            "  File \"<ipython-input-4-23bc4e5d1a4c>\", line 67, in get_risk_factor\n",
            "    df = pd.read_csv(CRIME_DATA)\n",
            "  File \"/usr/local/lib/python3.9/dist-packages/pandas/util/_decorators.py\", line 311, in wrapper\n",
            "    return func(*args, **kwargs)\n",
            "  File \"/usr/local/lib/python3.9/dist-packages/pandas/io/parsers/readers.py\", line 678, in read_csv\n",
            "    return _read(filepath_or_buffer, kwds)\n",
            "  File \"/usr/local/lib/python3.9/dist-packages/pandas/io/parsers/readers.py\", line 575, in _read\n",
            "    parser = TextFileReader(filepath_or_buffer, **kwds)\n",
            "  File \"/usr/local/lib/python3.9/dist-packages/pandas/io/parsers/readers.py\", line 932, in __init__\n",
            "    self._engine = self._make_engine(f, self.engine)\n",
            "  File \"/usr/local/lib/python3.9/dist-packages/pandas/io/parsers/readers.py\", line 1216, in _make_engine\n",
            "    self.handles = get_handle(  # type: ignore[call-overload]\n",
            "  File \"/usr/local/lib/python3.9/dist-packages/pandas/io/common.py\", line 786, in get_handle\n",
            "    handle = open(\n",
            "FileNotFoundError: [Errno 2] No such file or directory: '/content/crime_data.csv'\n",
            "ERROR:uvicorn.error:Exception in ASGI application\n",
            "Traceback (most recent call last):\n",
            "  File \"/usr/local/lib/python3.9/dist-packages/uvicorn/protocols/http/h11_impl.py\", line 373, in run_asgi\n",
            "    result = await app(self.scope, self.receive, self.send)\n",
            "  File \"/usr/local/lib/python3.9/dist-packages/uvicorn/middleware/proxy_headers.py\", line 75, in __call__\n",
            "    return await self.app(scope, receive, send)\n",
            "  File \"/usr/local/lib/python3.9/dist-packages/fastapi/applications.py\", line 208, in __call__\n",
            "    await super().__call__(scope, receive, send)\n",
            "  File \"/usr/local/lib/python3.9/dist-packages/starlette/applications.py\", line 112, in __call__\n",
            "    await self.middleware_stack(scope, receive, send)\n",
            "  File \"/usr/local/lib/python3.9/dist-packages/starlette/middleware/errors.py\", line 181, in __call__\n",
            "    raise exc from None\n",
            "  File \"/usr/local/lib/python3.9/dist-packages/starlette/middleware/errors.py\", line 159, in __call__\n",
            "    await self.app(scope, receive, _send)\n",
            "  File \"/usr/local/lib/python3.9/dist-packages/starlette/exceptions.py\", line 82, in __call__\n",
            "    raise exc from None\n",
            "  File \"/usr/local/lib/python3.9/dist-packages/starlette/exceptions.py\", line 71, in __call__\n",
            "    await self.app(scope, receive, sender)\n",
            "  File \"/usr/local/lib/python3.9/dist-packages/starlette/routing.py\", line 580, in __call__\n",
            "    await route.handle(scope, receive, send)\n",
            "  File \"/usr/local/lib/python3.9/dist-packages/starlette/routing.py\", line 241, in handle\n",
            "    await self.app(scope, receive, send)\n",
            "  File \"/usr/local/lib/python3.9/dist-packages/starlette/routing.py\", line 52, in app\n",
            "    response = await func(request)\n",
            "  File \"/usr/local/lib/python3.9/dist-packages/fastapi/routing.py\", line 226, in app\n",
            "    raw_response = await run_endpoint_function(\n",
            "  File \"/usr/local/lib/python3.9/dist-packages/fastapi/routing.py\", line 159, in run_endpoint_function\n",
            "    return await dependant.call(**values)\n",
            "  File \"<ipython-input-5-33dbc4e062c3>\", line 11, in alternate_routes\n",
            "    scores = get_risk_factor(node_dict)\n",
            "  File \"<ipython-input-4-23bc4e5d1a4c>\", line 67, in get_risk_factor\n",
            "    df = pd.read_csv(CRIME_DATA)\n",
            "  File \"/usr/local/lib/python3.9/dist-packages/pandas/util/_decorators.py\", line 311, in wrapper\n",
            "    return func(*args, **kwargs)\n",
            "  File \"/usr/local/lib/python3.9/dist-packages/pandas/io/parsers/readers.py\", line 678, in read_csv\n",
            "    return _read(filepath_or_buffer, kwds)\n",
            "  File \"/usr/local/lib/python3.9/dist-packages/pandas/io/parsers/readers.py\", line 575, in _read\n",
            "    parser = TextFileReader(filepath_or_buffer, **kwds)\n",
            "  File \"/usr/local/lib/python3.9/dist-packages/pandas/io/parsers/readers.py\", line 932, in __init__\n",
            "    self._engine = self._make_engine(f, self.engine)\n",
            "  File \"/usr/local/lib/python3.9/dist-packages/pandas/io/parsers/readers.py\", line 1216, in _make_engine\n",
            "    self.handles = get_handle(  # type: ignore[call-overload]\n",
            "  File \"/usr/local/lib/python3.9/dist-packages/pandas/io/common.py\", line 786, in get_handle\n",
            "    handle = open(\n",
            "FileNotFoundError: [Errno 2] No such file or directory: '/content/crime_data.csv'\n"
          ]
        },
        {
          "output_type": "stream",
          "name": "stdout",
          "text": [
            "INFO:     2401:4900:3e22:998c:c193:32a:663b:b9f4:0 - \"GET / HTTP/1.1\" 404 Not Found\n",
            "INFO:     103.93.250.20:0 - \"POST /routes HTTP/1.1\" 200 OK\n",
            "INFO:     103.93.250.20:0 - \"POST /routes HTTP/1.1\" 200 OK\n",
            "INFO:     103.93.250.20:0 - \"POST /routes HTTP/1.1\" 200 OK\n",
            "INFO:     2402:8100:3876:9ed1:1:1:54b0:2783:0 - \"POST /routes HTTP/1.1\" 200 OK\n",
            "INFO:     2402:8100:3876:9ed1:1:1:54b0:2783:0 - \"POST /routes HTTP/1.1\" 200 OK\n",
            "INFO:     2402:8100:3845:8e74:1:4:a8fc:400e:0 - \"POST /routes HTTP/1.1\" 200 OK\n",
            "INFO:     2402:8100:3845:8e74:1:4:a8fc:400e:0 - \"POST /routes HTTP/1.1\" 200 OK\n",
            "INFO:     2402:8100:3845:8e74:1:4:a8fc:400e:0 - \"POST /routes HTTP/1.1\" 200 OK\n"
          ]
        }
      ],
      "source": [
        "nest_asyncio.apply()  # allow for asyncio to work within the Jupyter notebook cell\n",
        "print(public_url)     # public URL for the server via a tunnel\n",
        "uvicorn.run(app)      # run the FastAPI app using uvicorn"
      ]
    },
    {
      "cell_type": "code",
      "execution_count": null,
      "metadata": {
        "id": "NnpEKFy2WzJ5"
      },
      "outputs": [],
      "source": [
        "ngrok.disconnect(public_url=public_url)  # kill tunnel"
      ]
    }
  ],
  "metadata": {
    "colab": {
      "provenance": []
    },
    "kernelspec": {
      "display_name": "Python 3",
      "name": "python3"
    },
    "language_info": {
      "name": "python"
    }
  },
  "nbformat": 4,
  "nbformat_minor": 0
}