{
  "cells": [
    {
      "cell_type": "code",
      "execution_count": 1,
      "metadata": {
        "id": "KAyJPx2hVaLt"
      },
      "outputs": [],
      "source": [
        "# Install requirements\n",
        "!pip install -q fastapi==0.68.1\n",
        "!pip install -q python-multipart==0.0.5\n",
        "!pip install -q uvicorn==0.15.0\n",
        "!pip install -q nest-asyncio\n",
        "!pip install -q pyngrok"
      ]
    },
    {
      "cell_type": "code",
      "execution_count": 2,
      "metadata": {
        "id": "VxKA6KB0VhBU"
      },
      "outputs": [],
      "source": [
        "import os\n",
        "import requests\n",
        "\n",
        "from fastapi import FastAPI\n",
        "from pydantic import BaseModel\n",
        "from pyngrok import ngrok\n",
        "import nest_asyncio\n",
        "import uvicorn\n",
        "\n",
        "import math\n",
        "import pandas as pd\n",
        "from geopy import Point\n",
        "from geopy.distance import distance\n"
      ]
    },
    {
      "cell_type": "code",
      "execution_count": 3,
      "metadata": {
        "id": "k3ZI1NzLksGR"
      },
      "outputs": [],
      "source": [
        "CRIME_DATA = '/content/crime_data.csv'\n",
        "POLICE_DATA = ''\n",
        "POP_DATA = ''\n",
        "TRANSIT_DATA = ''"
      ]
    },
    {
      "cell_type": "code",
      "execution_count": 4,
      "metadata": {
        "id": "4WX7CKSXYDDY"
      },
      "outputs": [],
      "source": [
        "\n",
        "def get_routes(start, dest):\n",
        "  KEY = 'jyLBvqJxo4n0KceZiCYfku4ixSlXvasX'\n",
        "  URL = f'https://www.mapquestapi.com/directions/v2/alternateroutes?key={KEY}'\n",
        "\n",
        "  payload = {\n",
        "  \"locations\": [start, dest],\n",
        "  \"maxRoutes\": 6,\n",
        "  \"timeOverage\": 100\n",
        "  }\n",
        "  response = requests.post(URL, json=payload)\n",
        "  if response.status_code == 200:\n",
        "    data = response.json()\n",
        "  return data\n",
        "\n",
        "def process_data(data): \n",
        "  node_dict = {}\n",
        "  nodes = []\n",
        "  for node in data['route']['legs'][0]['maneuvers']:\n",
        "    nodes.append(node['startPoint'])\n",
        "    nodes[-1]['dist'] = node['distance']\n",
        "    nodes[-1]['narr'] = node['narrative']\n",
        "  node_dict[0] = nodes\n",
        "  num_alternates = len(data['route']['alternateRoutes'])\n",
        "  for i in range(num_alternates):\n",
        "    nodes = []\n",
        "    r = data['route']['alternateRoutes'][i]['route']['legs'][0]\n",
        "    num_manuvs = len(r['maneuvers'])\n",
        "    for j in range(num_manuvs):\n",
        "      nodes.append(r['maneuvers'][j]['startPoint'])\n",
        "      nodes[-1]['dist'] = r['maneuvers'][j]['distance']\n",
        "      nodes[-1]['narr'] = r['maneuvers'][j]['narrative']\n",
        "    node_dict[i+1] = nodes\n",
        "  return node_dict\n",
        "\n",
        "\n",
        "def get_km_range(lat, lng, k):\n",
        "  p0 = Point(lat, lng)\n",
        "  p1 = distance(kilometers=k).destination(point=p0, bearing=0)\n",
        "  p2 = distance(kilometers=k).destination(point=p0, bearing=90) \n",
        "  lat_range = p1.latitude - p0.latitude\n",
        "  lng_range = p2.longitude - p0.longitude\n",
        "  return lat_range, lng_range\n",
        "\n",
        "def get_distance(xa, ya, xb, yb):\n",
        "  return math.sqrt((xa-xb)**2 + (ya-yb)**2)\n",
        "\n",
        "\n",
        "def get_severity(category):\n",
        "  weights = {\n",
        "      'Poor / No Street Lighting': 1,\n",
        "      'Stalking': 2,\n",
        "      'Ogling/Facial Expressions/Staring': 2,\n",
        "      'Commenting': 3,\n",
        "      'Catcalls/Whistles': 3,\n",
        "      'Taking pictures': 4,\n",
        "      'Indecent exposure': 5,\n",
        "      'Sexual Invites': 5,\n",
        "      'Chain Snatching / Robbery': 8,\n",
        "      'Touching /Groping': 8,\n",
        "      'Rape / Sexual Assault': 10,\n",
        "  }\n",
        "  return weights[category]\n",
        "  \n",
        "\n",
        "def get_risk_factor(routes):\n",
        "  risk_scores = []\n",
        "  df = pd.read_csv(CRIME_DATA)\n",
        "  for idx in routes.keys():\n",
        "    route_risk = 0\n",
        "    for node in routes[idx]:\n",
        "      lat, lng = node['lat'], node['lng']\n",
        "      dist = node['dist']\n",
        "      if dist==0: dist=1 \n",
        "      lat_r, lng_r = get_km_range(lat, lng, 2)\n",
        "      crimes = df.loc[\n",
        "          (df['Latitude'].between(lat-lat_r, lat+lat_r)) &\n",
        "          (df['Longitude'].between(lng-lng_r, lng+lng_r))]\n",
        "      count = crimes.shape[0]\n",
        "      node_risk = 0\n",
        "      for id, crime in crimes.iterrows():\n",
        "        node_risk += get_severity(crime['Category'])#*get_distance(\n",
        "            #crime['Latitude'], crime['Longitude'], lat, lng)\n",
        "      route_risk += (node_risk/dist)\n",
        "               \n",
        "    risk_scores.append(route_risk)\n",
        "  return risk_scores\n"
      ]
    },
    {
      "cell_type": "code",
      "execution_count": 5,
      "metadata": {
        "id": "LyLovYMNVqVy"
      },
      "outputs": [],
      "source": [
        "app = FastAPI()\n",
        "\n",
        "class RoutePlanner(BaseModel):\n",
        "    start_loc: str\n",
        "    end_loc: str\n",
        "\n",
        "@app.post(\"/routes\")\n",
        "async def alternate_routes(inp_data: RoutePlanner):\n",
        "  data = get_routes(inp_data.start_loc, inp_data.end_loc)\n",
        "  node_dict = process_data(data)\n",
        "  scores = get_risk_factor(node_dict)\n",
        "  return {\"routes\": node_dict, \"scores\": scores}\n"
      ]
    },
    {
      "cell_type": "code",
      "execution_count": 6,
      "metadata": {
        "colab": {
          "base_uri": "https://localhost:8080/"
        },
        "id": "NoCwiWJsV0ps",
        "outputId": "2decdb92-a01b-4594-8f1a-67d619726ddc"
      },
      "outputs": [
        {
          "output_type": "execute_result",
          "data": {
            "text/plain": [
              "0"
            ]
          },
          "metadata": {},
          "execution_count": 6
        }
      ],
      "source": [
        "auth_token = \"2O8XV6yH8IEkUvZ77UC2nZpK1OP_555Xi375PfZLjk8ks1yAS\"\n",
        "os.system(f\"ngrok authtoken {auth_token}\")"
      ]
    },
    {
      "cell_type": "code",
      "execution_count": 7,
      "metadata": {
        "colab": {
          "base_uri": "https://localhost:8080/"
        },
        "id": "7JQywgDUWB4A",
        "outputId": "4b7295eb-32c7-4e0c-8a48-c98099bd5590"
      },
      "outputs": [
        {
          "output_type": "stream",
          "name": "stdout",
          "text": [
            "root       10623 12.0  0.1 725672 22064 ?        Sl   18:52   0:00 /usr/local/lib/python3.9/dist-packages/pyngrok/bin/ngrok start --none --log=stdout\n",
            "root       10633  0.0  0.0   6904  3224 ?        S    18:52   0:00 /bin/bash -c ps aux | grep ngrok     # check if tunnel exists\n",
            "root       10635  0.0  0.0   6444   656 ?        S    18:52   0:00 grep ngrok\n"
          ]
        }
      ],
      "source": [
        "# Create tunnel\n",
        "public_url = ngrok.connect(8000, port='8000', bind_tls=True)\n",
        "!ps aux | grep ngrok     # check if tunnel exists"
      ]
    },
    {
      "cell_type": "code",
      "execution_count": null,
      "metadata": {
        "colab": {
          "base_uri": "https://localhost:8080/"
        },
        "id": "RP-FIsCiWFVS",
        "outputId": "a138bbb1-95b1-4e0b-be93-1fc5abc41eb7"
      },
      "outputs": [
        {
          "output_type": "stream",
          "name": "stderr",
          "text": [
            "INFO:     Started server process [10328]\n",
            "INFO:uvicorn.error:Started server process [10328]\n",
            "INFO:     Waiting for application startup.\n",
            "INFO:uvicorn.error:Waiting for application startup.\n",
            "INFO:     Application startup complete.\n",
            "INFO:uvicorn.error:Application startup complete.\n",
            "INFO:     Uvicorn running on http://127.0.0.1:8000 (Press CTRL+C to quit)\n",
            "INFO:uvicorn.error:Uvicorn running on http://127.0.0.1:8000 (Press CTRL+C to quit)\n"
          ]
        },
        {
          "output_type": "stream",
          "name": "stdout",
          "text": [
            "NgrokTunnel: \"https://8e0b-35-222-231-139.ngrok-free.app\" -> \"http://localhost:8000\"\n",
            "INFO:     103.93.250.20:0 - \"POST /routes HTTP/1.1\" 200 OK\n"
          ]
        }
      ],
      "source": [
        "nest_asyncio.apply()  # allow for asyncio to work within the Jupyter notebook cell\n",
        "print(public_url)     # public URL for the server via a tunnel\n",
        "uvicorn.run(app)      # run the FastAPI app using uvicorn"
      ]
    },
    {
      "cell_type": "code",
      "execution_count": null,
      "metadata": {
        "id": "NnpEKFy2WzJ5"
      },
      "outputs": [],
      "source": [
        "ngrok.disconnect(public_url=public_url)  # kill tunnel"
      ]
    }
  ],
  "metadata": {
    "colab": {
      "provenance": []
    },
    "kernelspec": {
      "display_name": "Python 3",
      "name": "python3"
    },
    "language_info": {
      "name": "python"
    }
  },
  "nbformat": 4,
  "nbformat_minor": 0
}