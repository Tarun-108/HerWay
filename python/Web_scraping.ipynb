{
 "cells": [
  {
   "cell_type": "markdown",
   "id": "de8513c1",
   "metadata": {},
   "source": [
    "### IMPORTANT!\n",
    "\n",
    "For driver_path variable, make sure to specify the path of the `chromedriver.exe` executable, which can be downloaded from the site https://chromedriver.chromium.org/downloads (choose the version which matches with the version of your chrome browser)."
   ]
  },
  {
   "cell_type": "code",
   "execution_count": 1,
   "id": "242dfe94",
   "metadata": {},
   "outputs": [
    {
     "name": "stderr",
     "output_type": "stream",
     "text": [
      "C:\\Users\\bsohi\\AppData\\Local\\Temp\\ipykernel_12756\\1053157812.py:6: DeprecationWarning: executable_path has been deprecated, please pass in a Service object\n",
      "  driver = webdriver.Chrome(driver_path)\n"
     ]
    }
   ],
   "source": [
    "from selenium import webdriver\n",
    "from bs4 import BeautifulSoup\n",
    "import pandas as pd\n",
    "\n",
    "driver_path = \"C:\\\\2 - Computer Science\\\\Competitions & Hackathons\\\\Hackfest 2023\\\\chromedriver_win32\\\\chromedriver.exe\" # Change this\n",
    "driver = webdriver.Chrome(driver_path)"
   ]
  },
  {
   "cell_type": "code",
   "execution_count": 2,
   "id": "2162cb84",
   "metadata": {},
   "outputs": [],
   "source": [
    "texts = []\n",
    "locations = []\n",
    "categories = []\n",
    "date_time = []"
   ]
  },
  {
   "cell_type": "code",
   "execution_count": 3,
   "id": "e41d3ff2",
   "metadata": {},
   "outputs": [],
   "source": [
    "main_link = \"https://maps.safecity.in/reports/fetch_reports?c%5B0%5D=6&c%5B1%5D=20&c%5B2%5D=3&c%5B3%5D=1&c%5B4%5D=2&c%5B5%5D=9&c%5B6%5D=8&c%5B7%5D=10&c%5B8%5D=11&c%5B9%5D=18&c%5B10%5D=17&page=\"\n",
    "\n",
    "for i in range(1, 554):\n",
    "    link = main_link+str(i)\n",
    "    driver.get(link)\n",
    "    \n",
    "    content = driver.page_source\n",
    "    soup = BeautifulSoup(content)\n",
    "\n",
    "    for a in soup.find_all('div', attrs={'class':'r_details'}):\n",
    "\n",
    "        txt = a.find('div', attrs={'class':'r_description'})\n",
    "        location = a.find('p', attrs={'class':'r_location'})\n",
    "        dt = a.find('p', attrs={'class':'r_date r-3 bottom-cap'})\n",
    "\n",
    "        texts.append(txt.text)\n",
    "        locations.append(location.text)\n",
    "        date_time.append(dt.text)\n",
    "\n",
    "\n",
    "    for a in soup.find_all('div', attrs={'class':'r_media'}):\n",
    "        category = a.find('span', attrs={'class':'r_cat-desc'})\n",
    "        categories.append(category.text)"
   ]
  },
  {
   "cell_type": "code",
   "execution_count": 4,
   "id": "fcb3a986",
   "metadata": {},
   "outputs": [],
   "source": [
    "df = pd.DataFrame({'Category': categories, 'Location': locations, 'Incident': texts, 'Date/Time': date_time})\n",
    "df.to_csv('web_data.csv', index=False, encoding='utf-8')"
   ]
  }
 ],
 "metadata": {
  "kernelspec": {
   "display_name": "Python 3 (ipykernel)",
   "language": "python",
   "name": "python3"
  },
  "language_info": {
   "codemirror_mode": {
    "name": "ipython",
    "version": 3
   },
   "file_extension": ".py",
   "mimetype": "text/x-python",
   "name": "python",
   "nbconvert_exporter": "python",
   "pygments_lexer": "ipython3",
   "version": "3.10.5"
  }
 },
 "nbformat": 4,
 "nbformat_minor": 5
}
